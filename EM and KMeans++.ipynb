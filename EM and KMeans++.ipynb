{
 "cells": [
  {
   "cell_type": "markdown",
   "metadata": {},
   "source": [
    "## EM and KMeans++ for finding the individual distributions of a Gaussian Moxture Model"
   ]
  },
  {
   "cell_type": "markdown",
   "metadata": {},
   "source": [
    "### Including Libraries used"
   ]
  },
  {
   "cell_type": "code",
   "execution_count": 1,
   "metadata": {},
   "outputs": [],
   "source": [
    "import numpy as np\n",
    "import pandas as pd\n",
    "from tqdm import tqdm_notebook as tqdm\n",
    "np.random.seed(42)"
   ]
  },
  {
   "cell_type": "markdown",
   "metadata": {},
   "source": [
    "### Some Utility Functions"
   ]
  },
  {
   "cell_type": "code",
   "execution_count": 11,
   "metadata": {},
   "outputs": [],
   "source": [
    "def error(p1, p2):\n",
    "    ans = 0\n",
    "    for i in range(len(p1)):\n",
    "        ans += np.linalg.norm(p1[i]-p2[i],ord=2)\n",
    "    ans1 = 0\n",
    "    p2=p2[::-1]\n",
    "    for i in range(len(p1)):\n",
    "        ans1 += np.linalg.norm(p1[i]-p2[i],ord=2)\n",
    "    return min(ans,ans1)"
   ]
  },
  {
   "cell_type": "code",
   "execution_count": 3,
   "metadata": {},
   "outputs": [],
   "source": [
    "def dist(p1,p2):\n",
    "    p1, p2 = np.array(p1), np.array(p2)\n",
    "    return np.linalg.norm(p1-p2,ord=2)"
   ]
  },
  {
   "cell_type": "code",
   "execution_count": 4,
   "metadata": {},
   "outputs": [],
   "source": [
    "def gauss(x,mu,sig):\n",
    "    dim = len(x)\n",
    "    return np.exp( -((np.matrix(x-mu).T) @ (sig.I) @ np.matrix(x-mu))/2 )/(np.sqrt(((2*np.pi)**dim)*np.linalg.det(sig)))"
   ]
  },
  {
   "cell_type": "markdown",
   "metadata": {},
   "source": [
    "### Function to generate datasets"
   ]
  },
  {
   "cell_type": "code",
   "execution_count": 5,
   "metadata": {},
   "outputs": [],
   "source": [
    "def create_dataset(c, k):\n",
    "    cen = c*np.random.normal(0,1)\n",
    "    mu1 = np.array([0.0]*32)\n",
    "    mu2 = np.array([cen]*32)\n",
    "    mus = [mu1,mu2]\n",
    "    data = []\n",
    "    for i in range(k):\n",
    "        sel_ind = np.random.choice([0,1],p = [0.5, 0.5])\n",
    "        point = np.random.multivariate_normal(mus[sel_ind], np.eye(32))\n",
    "        data.append(point)\n",
    "    return data, mus"
   ]
  },
  {
   "cell_type": "markdown",
   "metadata": {},
   "source": [
    "### Expectation Maximization"
   ]
  },
  {
   "cell_type": "code",
   "execution_count": 15,
   "metadata": {},
   "outputs": [],
   "source": [
    "def EM(data, n_iter, k):\n",
    "    # Initialization\n",
    "    n = len(data)\n",
    "    dim = len(data[0])\n",
    "    mu = [np.zeros(dim) for i in range(k)]\n",
    "    sig = [np.matrix(np.eye(dim)) for i in range(k)]\n",
    "    w = np.array([0.5]*k)\n",
    "    #     sig = np.diag([np.random.randn(1,dim)])\n",
    "    theta = np.array([[0.0 for i in range(k)] for j in range(n)])\n",
    "    for it in tqdm(range(n_iter)):\n",
    "        # E Step\n",
    "        for i in range(n):\n",
    "            total = [w[l]*gauss(data[i],mu[l],sig[l]) for l in range(k)]\n",
    "            total_sum = np.sum(total)\n",
    "            for j in range(k):\n",
    "                theta[i,j] = total[j]/total_sum\n",
    "\n",
    "        # M Step\n",
    "        N = [np.sum([theta[i,j] for i in range(n)]) for j in range(k)]\n",
    "        for j in range(k):\n",
    "            w[j] = N[j]/np.sum(N)\n",
    "            mu[j] = np.zeros(dim)\n",
    "            for i in range(n):\n",
    "                mu[j] += theta[i,j]*data[i]\n",
    "            mu[j] = mu[j]/N[j]\n",
    "            sig[j] = np.zeros([dim,dim])\n",
    "            for i in range(n):\n",
    "                sig[j] += theta[i,j]*( np.matrix(data[i]-mu[j]).T @ np.matrix(data[i]-mu[j]) )\n",
    "            sig[j] = np.matrix(sig[j]/N[j])\n",
    "    return mu"
   ]
  },
  {
   "cell_type": "markdown",
   "metadata": {},
   "source": [
    "### KMeans++"
   ]
  },
  {
   "cell_type": "code",
   "execution_count": 7,
   "metadata": {},
   "outputs": [],
   "source": [
    "def kmpp(data, n_iter, k):\n",
    "    \n",
    "    # Initialization\n",
    "    n = len(data)\n",
    "    cents = [np.random.choice(list(range(n)))]\n",
    "    dists = [dist(data[i], data[cents[-1]]) for i in range(n)]\n",
    "    for i in range(1,k):\n",
    "        npsum = np.sum([dists[j]**2 for j in range(n)])\n",
    "        sel = np.random.choice(list(range(n)), p = [dists[j]**2/npsum for j in range(n)])\n",
    "        cents.append(sel)\n",
    "        for j in range(len(dists)):\n",
    "            dists[j] = min(dists[j], dist(data[j], data[cents[-1]]))\n",
    "            \n",
    "    # Assigning to clusters\n",
    "    clus = [[] for i in range(k)]\n",
    "    for i in range(n):\n",
    "        dis = 10**9+7\n",
    "        cen = -1\n",
    "        for j in range(k):\n",
    "            dis1 = dist(data[i],data[cents[j]])\n",
    "            if dis1<dis:\n",
    "                dis = dis1\n",
    "                cen = j\n",
    "        clus[cen].append(i)\n",
    "    \n",
    "    # Lloyd's Algorithm\n",
    "    while n_iter+1:\n",
    "        # Finding Current Centers\n",
    "        centers = []\n",
    "        for i in range(k):\n",
    "            centers.append(np.mean([data[j] for j in clus[i]], axis=0))\n",
    "        cents = centers\n",
    "        # Reassigning centers\n",
    "        clus = [[] for i in range(k)]\n",
    "        for i in range(n):\n",
    "            dis = 10**9+7\n",
    "            cen = -1\n",
    "            for j in range(k):\n",
    "                dis1 = dist(data[i],cents[j])\n",
    "                if dis1<dis:\n",
    "                    dis = dis1\n",
    "                    cen = j\n",
    "            clus[cen].append(i)\n",
    "        \n",
    "        n_iter -= 1\n",
    "    return cents"
   ]
  },
  {
   "cell_type": "markdown",
   "metadata": {},
   "source": [
    "### Generating Dataset"
   ]
  },
  {
   "cell_type": "code",
   "execution_count": 8,
   "metadata": {},
   "outputs": [],
   "source": [
    "cs = [0.5, 1, 1.5, 2, 3, 4, 8]\n",
    "Data = []\n",
    "MUs = []\n",
    "for c in cs:\n",
    "    data, mu = create_dataset(c, 10000)\n",
    "    Data.append(data)\n",
    "    MUs.append(mu)"
   ]
  },
  {
   "cell_type": "markdown",
   "metadata": {},
   "source": [
    "### Running EM algorithm on the data generated "
   ]
  },
  {
   "cell_type": "code",
   "execution_count": null,
   "metadata": {
    "scrolled": false
   },
   "outputs": [
    {
     "data": {
      "application/vnd.jupyter.widget-view+json": {
       "model_id": "50fbb339de10412cb30927323c566954",
       "version_major": 2,
       "version_minor": 0
      },
      "text/plain": [
       "HBox(children=(IntProgress(value=0, max=50), HTML(value='')))"
      ]
     },
     "metadata": {},
     "output_type": "display_data"
    }
   ],
   "source": [
    "em_outs = []\n",
    "calc_mus = []\n",
    "for _ in range(len(cs)):\n",
    "    calc_mu = EM(Data[_], 50, 2)\n",
    "    calc_mus.append(calc_mu)\n",
    "    em_outs.append(error(MUs[_], calc_mu))"
   ]
  },
  {
   "cell_type": "markdown",
   "metadata": {},
   "source": [
    "### Running KMeans++ algorithm on the data generated"
   ]
  },
  {
   "cell_type": "code",
   "execution_count": 12,
   "metadata": {},
   "outputs": [],
   "source": [
    "kmpp_outs = []\n",
    "calc_mus_ = []\n",
    "for _ in range(len(cs)):\n",
    "    calc_mu = kmpp(Data[_], 5, 2)\n",
    "    calc_mus_.append(calc_mu)\n",
    "    kmpp_outs.append(error(MUs[_], calc_mu))"
   ]
  },
  {
   "cell_type": "markdown",
   "metadata": {},
   "source": [
    "### Displaying Output"
   ]
  },
  {
   "cell_type": "code",
   "execution_count": null,
   "metadata": {},
   "outputs": [],
   "source": [
    "OUT1 = pd.DataFrame(pd.Series(cs))\n",
    "OUT1 = pd.concat([OUT1, em_outs],axis=1)\n",
    "OUT1.columns = [\"c\", \"error\"]\n",
    "print(OUT1)"
   ]
  },
  {
   "cell_type": "code",
   "execution_count": 14,
   "metadata": {
    "scrolled": false
   },
   "outputs": [
    {
     "name": "stdout",
     "output_type": "stream",
     "text": [
      "     c     error\n",
      "0  0.5  1.258906\n",
      "1  1.0  0.180542\n",
      "2  1.5  2.412475\n",
      "3  2.0  0.128867\n",
      "4  3.0  0.149239\n",
      "5  4.0  1.548189\n",
      "6  8.0  0.161909\n"
     ]
    }
   ],
   "source": [
    "OUT2 = pd.DataFrame(pd.Series(cs))\n",
    "OUT2 = pd.concat([OUT2, pd.Series(kmpp_outs)],axis=1)\n",
    "OUT2.columns = [\"c\", \"error\"]\n",
    "print(OUT2)"
   ]
  }
 ],
 "metadata": {
  "kernelspec": {
   "display_name": "Python 3",
   "language": "python",
   "name": "python3"
  },
  "language_info": {
   "codemirror_mode": {
    "name": "ipython",
    "version": 3
   },
   "file_extension": ".py",
   "mimetype": "text/x-python",
   "name": "python",
   "nbconvert_exporter": "python",
   "pygments_lexer": "ipython3",
   "version": "3.7.3"
  }
 },
 "nbformat": 4,
 "nbformat_minor": 2
}
