{
  "nbformat": 4,
  "nbformat_minor": 0,
  "metadata": {
    "kernelspec": {
      "display_name": "Python 3",
      "language": "python",
      "name": "python3"
    },
    "language_info": {
      "codemirror_mode": {
        "name": "ipython",
        "version": 3
      },
      "file_extension": ".py",
      "mimetype": "text/x-python",
      "name": "python",
      "nbconvert_exporter": "python",
      "pygments_lexer": "ipython3",
      "version": "3.7.3"
    },
    "colab": {
      "name": "EM and KMeans++",
      "provenance": [],
      "collapsed_sections": []
    }
  },
  "cells": [
    {
      "cell_type": "markdown",
      "metadata": {
        "id": "L3_8LHBq2TCq",
        "colab_type": "text"
      },
      "source": [
        "## EM and KMeans++ for finding the individual distributions of a Gaussian Mixture Model\n"
      ]
    },
    {
      "cell_type": "markdown",
      "metadata": {
        "id": "SrLjU4Kh2TC2",
        "colab_type": "text"
      },
      "source": [
        "### Including Libraries used"
      ]
    },
    {
      "cell_type": "code",
      "metadata": {
        "id": "_iGPl-2T2TC6",
        "colab_type": "code",
        "colab": {}
      },
      "source": [
        "import numpy as np\n",
        "import pandas as pd\n",
        "from tqdm import tqdm_notebook as tqdm"
      ],
      "execution_count": 0,
      "outputs": []
    },
    {
      "cell_type": "markdown",
      "metadata": {
        "id": "t8OuDZXX2TDN",
        "colab_type": "text"
      },
      "source": [
        "### Some Utility Functions"
      ]
    },
    {
      "cell_type": "code",
      "metadata": {
        "id": "nm2vdEay2TDR",
        "colab_type": "code",
        "colab": {}
      },
      "source": [
        "def error(p1, p2):\n",
        "    ans = 0\n",
        "    for i in range(len(p1)):\n",
        "        ans += dist(p1[i], p2[i])\n",
        "    ans1 = 0\n",
        "    p2=p2[::-1] # This is required as in kmeans++ the order of the centers may be different\n",
        "    for i in range(len(p1)):\n",
        "        ans1 += dist(p1[i], p2[i])\n",
        "    return min(ans,ans1)"
      ],
      "execution_count": 0,
      "outputs": []
    },
    {
      "cell_type": "code",
      "metadata": {
        "id": "9yUyh1Do2TDd",
        "colab_type": "code",
        "colab": {}
      },
      "source": [
        "def dist(p1,p2):\n",
        "    p1, p2 = np.array(p1), np.array(p2)\n",
        "    return np.sqrt(np.sum((p1-p2)**2))"
      ],
      "execution_count": 0,
      "outputs": []
    },
    {
      "cell_type": "code",
      "metadata": {
        "id": "-iPV5TJt2TDq",
        "colab_type": "code",
        "colab": {}
      },
      "source": [
        "def gauss(x,mu,sig):\n",
        "    dim = len(x)\n",
        "    return np.exp( -((np.matrix(x-mu)) @ (sig.I) @ np.matrix(x-mu).T)/2 )/(np.sqrt(((2*np.pi)**dim)*np.linalg.det(sig)))"
      ],
      "execution_count": 0,
      "outputs": []
    },
    {
      "cell_type": "markdown",
      "metadata": {
        "id": "6IV_GArm2TD2",
        "colab_type": "text"
      },
      "source": [
        "### Function to generate datasets"
      ]
    },
    {
      "cell_type": "code",
      "metadata": {
        "id": "HMetNeP52TD5",
        "colab_type": "code",
        "colab": {}
      },
      "source": [
        "def create_dataset(c, k):\n",
        "    np.random.seed(52)\n",
        "    cen = c*np.random.normal(0,1)\n",
        "    mu1 = np.array([0.0]*32)\n",
        "    mu2 = np.array([cen]*32)\n",
        "    mus = [mu1,mu2]\n",
        "    data = []\n",
        "    for i in range(k):\n",
        "        sel_ind = np.random.choice([0,1],p = [0.5, 0.5])\n",
        "        point = np.random.multivariate_normal(mus[sel_ind], np.eye(32))\n",
        "        data.append(point)\n",
        "    return data, mus"
      ],
      "execution_count": 0,
      "outputs": []
    },
    {
      "cell_type": "markdown",
      "metadata": {
        "id": "PgVxm1Yf2TEG",
        "colab_type": "text"
      },
      "source": [
        "### Expectation Maximization"
      ]
    },
    {
      "cell_type": "code",
      "metadata": {
        "id": "NXgSB3vg2TEJ",
        "colab_type": "code",
        "colab": {}
      },
      "source": [
        "def EM(data, n_iter, k):\n",
        "    np.random.seed(52)\n",
        "    # Initialization\n",
        "    n = len(data)\n",
        "    dim = len(data[0])\n",
        "    mu = [np.zeros(dim), np.ones(dim)]\n",
        "    sig = [np.matrix(np.eye(dim)) for i in range(k)]\n",
        "    w = np.array([0.5]*k)\n",
        "    theta = np.array([[0.0 for i in range(k)] for j in range(n)])\n",
        "    for it in range(n_iter):\n",
        "        # E Step\n",
        "        for i in range(n):\n",
        "            total = [w[l]*gauss(data[i],mu[l],sig[l]) for l in range(k)]\n",
        "            total_sum = np.sum(total)\n",
        "            for j in range(k):\n",
        "                theta[i,j] = total[j]/total_sum\n",
        "\n",
        "        # M Step\n",
        "        N = [np.sum([theta[i,j] for i in range(n)]) for j in range(k)]\n",
        "        for j in range(k):\n",
        "            w[j] = N[j]/np.sum(N)\n",
        "            mu[j] = np.zeros(dim)\n",
        "            for i in range(n):\n",
        "                mu[j] += theta[i,j]*data[i]\n",
        "            mu[j] = mu[j]/N[j]\n",
        "            sig[j] = np.zeros([dim,dim])\n",
        "            for i in range(n):\n",
        "                sig[j] += theta[i,j]*( np.matrix(data[i]-mu[j]).T @ np.matrix(data[i]-mu[j]) )\n",
        "            sig[j] = np.matrix(sig[j]/N[j])\n",
        "    return mu"
      ],
      "execution_count": 0,
      "outputs": []
    },
    {
      "cell_type": "markdown",
      "metadata": {
        "id": "ZxwingXY2TEW",
        "colab_type": "text"
      },
      "source": [
        "### KMeans++"
      ]
    },
    {
      "cell_type": "code",
      "metadata": {
        "id": "iC8kDehq2TEa",
        "colab_type": "code",
        "colab": {}
      },
      "source": [
        "def kmpp(data, n_iter, k):\n",
        "    np.random.seed(52)\n",
        "    # Initialization\n",
        "    n = len(data)\n",
        "    cents = [np.random.choice(list(range(n)))]\n",
        "    dists = [dist(data[i], data[cents[-1]]) for i in range(n)]\n",
        "    for i in range(1,k):\n",
        "        npsum = np.sum([dists[j]**2 for j in range(n)])\n",
        "        sel = np.random.choice(list(range(n)), p = [dists[j]**2/npsum for j in range(n)])\n",
        "        cents.append(sel)\n",
        "        for j in range(len(dists)):\n",
        "            dists[j] = min(dists[j], dist(data[j], data[cents[-1]]))\n",
        "            \n",
        "    # Assigning to clusters\n",
        "    clus = [[] for i in range(k)]\n",
        "    for i in range(n):\n",
        "        dis = 10**9+7\n",
        "        cen = -1\n",
        "        for j in range(k):\n",
        "            dis1 = dist(data[i],data[cents[j]])\n",
        "            if dis1<dis:\n",
        "                dis = dis1\n",
        "                cen = j\n",
        "        clus[cen].append(i)\n",
        "    \n",
        "    # Lloyd's Algorithm\n",
        "    while n_iter+1:\n",
        "        # Finding Current Centers\n",
        "        centers = []\n",
        "        for i in range(k):\n",
        "            centers.append(np.mean([data[j] for j in clus[i]], axis=0))\n",
        "        cents = centers\n",
        "        # Reassigning centers\n",
        "        clus = [[] for i in range(k)]\n",
        "        for i in range(n):\n",
        "            dis = 10**9+7\n",
        "            cen = -1\n",
        "            for j in range(k):\n",
        "                dis1 = dist(data[i],cents[j])\n",
        "                if dis1<dis:\n",
        "                    dis = dis1\n",
        "                    cen = j\n",
        "            clus[cen].append(i)\n",
        "        \n",
        "        n_iter -= 1\n",
        "    return cents"
      ],
      "execution_count": 0,
      "outputs": []
    },
    {
      "cell_type": "markdown",
      "metadata": {
        "id": "e8jfuvJG2TEj",
        "colab_type": "text"
      },
      "source": [
        "### Generating Dataset"
      ]
    },
    {
      "cell_type": "code",
      "metadata": {
        "id": "eZlGt8zP2-Lt",
        "colab_type": "code",
        "colab": {}
      },
      "source": [
        "cs = [0.5, 1, 1.5, 2, 3, 4, 8]\n",
        "Data = []\n",
        "MUs = []"
      ],
      "execution_count": 0,
      "outputs": []
    },
    {
      "cell_type": "code",
      "metadata": {
        "id": "7Pqd0tpQ2TEn",
        "colab_type": "code",
        "colab": {}
      },
      "source": [
        "for c in cs:\n",
        "    data, mu = create_dataset(c, 10000)\n",
        "    Data.append(data)\n",
        "    MUs.append(mu)"
      ],
      "execution_count": 0,
      "outputs": []
    },
    {
      "cell_type": "markdown",
      "metadata": {
        "id": "FRE9Bp6_2TEy",
        "colab_type": "text"
      },
      "source": [
        "### Running EM algorithm on the data generated "
      ]
    },
    {
      "cell_type": "code",
      "metadata": {
        "id": "S7qtEtcw3ZIy",
        "colab_type": "code",
        "colab": {}
      },
      "source": [
        "em_outs = []\n",
        "calc_mus = []"
      ],
      "execution_count": 0,
      "outputs": []
    },
    {
      "cell_type": "code",
      "metadata": {
        "scrolled": false,
        "id": "AndfpkXu2TE2",
        "colab_type": "code",
        "colab": {}
      },
      "source": [
        "for _ in range(len(cs)):\n",
        "    calc_mu = EM(Data[_], 50, 2)\n",
        "    calc_mus.append(calc_mu)\n",
        "    err = error(MUs[_], calc_mu)\n",
        "    em_outs.append(err)"
      ],
      "execution_count": 0,
      "outputs": []
    },
    {
      "cell_type": "markdown",
      "metadata": {
        "id": "Ip7vf6-q2TFD",
        "colab_type": "text"
      },
      "source": [
        "### Running KMeans++ algorithm on the data generated"
      ]
    },
    {
      "cell_type": "code",
      "metadata": {
        "id": "9Fqnp-Ma2TFG",
        "colab_type": "code",
        "colab": {}
      },
      "source": [
        "kmpp_outs = []\n",
        "calc_mus_ = []\n",
        "for _ in range(len(cs)):\n",
        "    calc_mu = kmpp(Data[_], 5, 2)\n",
        "    calc_mus_.append(calc_mu)\n",
        "    kmpp_outs.append(error(MUs[_], calc_mu))"
      ],
      "execution_count": 0,
      "outputs": []
    },
    {
      "cell_type": "markdown",
      "metadata": {
        "id": "f3v92QDf2TFN",
        "colab_type": "text"
      },
      "source": [
        "### Displaying Output"
      ]
    },
    {
      "cell_type": "code",
      "metadata": {
        "id": "l1qiFnCr2TFQ",
        "colab_type": "code",
        "outputId": "ed7a891b-107a-44eb-f6a3-69aca2de9d5e",
        "colab": {
          "base_uri": "https://localhost:8080/",
          "height": 159
        }
      },
      "source": [
        "OUT1 = pd.DataFrame(pd.Series(cs))\n",
        "OUT1 = pd.concat([OUT1, pd.Series(em_outs)],axis=1)\n",
        "OUT1.columns = [\"c\", \"error\"]\n",
        "print(OUT1)"
      ],
      "execution_count": 13,
      "outputs": [
        {
          "output_type": "stream",
          "text": [
            "     c     error\n",
            "0  0.5  2.013632\n",
            "1  1.0  0.247600\n",
            "2  1.5  0.188911\n",
            "3  2.0  0.186185\n",
            "4  3.0  0.184561\n",
            "5  4.0  0.184558\n",
            "6  8.0  0.184558\n"
          ],
          "name": "stdout"
        }
      ]
    },
    {
      "cell_type": "code",
      "metadata": {
        "scrolled": false,
        "id": "jg2Jnm1t2TFV",
        "colab_type": "code",
        "outputId": "d37fc029-e2aa-4d2f-a00d-12d7f3f83265",
        "colab": {
          "base_uri": "https://localhost:8080/",
          "height": 159
        }
      },
      "source": [
        "OUT2 = pd.DataFrame(pd.Series(cs))\n",
        "OUT2 = pd.concat([OUT2, pd.Series(kmpp_outs)],axis=1)\n",
        "OUT2.columns = [\"c\", \"error\"]\n",
        "print(OUT2)"
      ],
      "execution_count": 14,
      "outputs": [
        {
          "output_type": "stream",
          "text": [
            "     c     error\n",
            "0  0.5  0.977011\n",
            "1  1.0  0.238308\n",
            "2  1.5  0.194850\n",
            "3  2.0  0.187138\n",
            "4  3.0  0.184558\n",
            "5  4.0  0.184558\n",
            "6  8.0  0.184558\n"
          ],
          "name": "stdout"
        }
      ]
    }
  ]
}